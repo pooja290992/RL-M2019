{
 "cells": [
  {
   "cell_type": "code",
   "execution_count": 1,
   "metadata": {
    "collapsed": true
   },
   "outputs": [],
   "source": [
    "import numpy as np\n",
    "import matplotlib as mpl\n",
    "import pandas as pd\n",
    "import random \n",
    "import math\n",
    "import matplotlib.pyplot as plt\n",
    "import seaborn as sns\n",
    "from tqdm import trange\n",
    "from mpl_toolkits.mplot3d import Axes3D\n",
    "from blackjack3 import *"
   ]
  },
  {
   "cell_type": "code",
   "execution_count": 2,
   "metadata": {
    "collapsed": true
   },
   "outputs": [],
   "source": [
    "def mcOffPolicy(num_episodes):\n",
    "    bj = BlackJack()\n",
    "    init_state = [True, 13, 2]\n",
    "\n",
    "    rhos_ratio, returns = [], []\n",
    "    for i in range(0, num_episodes):\n",
    "        _, reward, player_seq_plays = bj.playGame(init_state,None)\n",
    "\n",
    "        target_wt, behave_wt = 1.0, 1.0\n",
    "        for (usable_ace, player_state, dealer_card), action in player_seq_plays:\n",
    "            if action != bj.getPlayerPolicySA(player_state):\n",
    "                target_wt = 0.0\n",
    "                break\n",
    "            else:\n",
    "                behave_wt *= 0.5\n",
    "        rhos_ratio.append(target_wt/behave_wt)\n",
    "        returns.append(reward)\n",
    "    rhos_ratio, returns = np.asarray(rhos_ratio), np.asarray(returns)\n",
    "    weighted_returns = rhos_ratio * returns\n",
    "\n",
    "    cum_weighted_returns,cum_rhos_ratio = [],[]\n",
    "    cum_wr_sum, cum_rho_sum = 0, 0\n",
    "    for i in range(len(weighted_returns)):\n",
    "        cum_wr_sum += weighted_returns[i]\n",
    "        cum_weighted_returns.append(cum_wr_sum)\n",
    "    for i in range(len(rhos_ratio)):\n",
    "        cum_rho_sum += rhos_ratio[i]\n",
    "        cum_rhos_ratio.append(cum_rho_sum)\n",
    "        \n",
    "    cum_weighted_returns, cum_rhos_ratio = np.asarray(cum_weighted_returns), np.asarray(cum_rhos_ratio)\n",
    "    ts = np.arange(1, num_episodes + 1)\n",
    "    ordinary_sampling_returns = cum_weighted_returns/ts\n",
    "\n",
    "    weighted_sampling_returns = np.where(cum_rhos_ratio != 0, cum_weighted_returns/cum_rhos_ratio, 0)\n",
    "    \n",
    "    #print(ordinary_sampling_returns[0:10])\n",
    "\n",
    "    return ordinary_sampling_returns, weighted_sampling_returns"
   ]
  },
  {
   "cell_type": "code",
   "execution_count": 3,
   "metadata": {
    "collapsed": true
   },
   "outputs": [],
   "source": [
    "def plotImportSamp(wt_imp_samp_err,ord_imp_samp_err):\n",
    "    plt.plot(ord_imp_samp_err, label='Ordinary Importance Sampling')\n",
    "    plt.plot(wt_imp_samp_err, label='Weighted Importance Sampling')\n",
    "    plt.xlabel('Episodes (log scale)')\n",
    "    plt.ylabel('Mean square error')\n",
    "    plt.xscale('log')\n",
    "    plt.legend()\n",
    "    plt.show()"
   ]
  },
  {
   "cell_type": "code",
   "execution_count": 4,
   "metadata": {
    "collapsed": true
   },
   "outputs": [],
   "source": [
    "def figure5_3():\n",
    "    num_episodes, runs = 10000, 100#100\n",
    "    state_true_val = -0.27726\n",
    "    ord_imp_samp_err, wt_imp_samp_err = np.zeros(num_episodes), np.zeros(num_episodes)\n",
    "    for i in trange(runs):\n",
    "        ord_imp_sampling, wt_imp_sampling = mcOffPolicy(num_episodes)\n",
    "        for j in range(num_episodes):\n",
    "            ord_imp_samp_err[j] += math.pow((ord_imp_sampling[j] - state_true_val), 2)\n",
    "            wt_imp_samp_err[j] += math.pow((wt_imp_sampling[j] - state_true_val), 2)\n",
    "    ord_imp_samp_err /= runs\n",
    "    wt_imp_samp_err /= runs\n",
    "    plotImportSamp(wt_imp_samp_err,ord_imp_samp_err)    \n",
    "    \n",
    "    "
   ]
  },
  {
   "cell_type": "code",
   "execution_count": 5,
   "metadata": {},
   "outputs": [
    {
     "name": "stderr",
     "output_type": "stream",
     "text": [
      "  1%|          | 1/100 [00:00<00:18,  5.22it/s]/home/pooja/anaconda3/lib/python3.6/site-packages/ipykernel_launcher.py:34: RuntimeWarning: invalid value encountered in true_divide\n",
      "100%|██████████| 100/100 [00:17<00:00,  5.84it/s]\n"
     ]
    },
    {
     "data": {
      "image/png": "[encoded data removed]",
      "text/plain": [
       "<Figure size 432x288 with 1 Axes>"
      ]
     },
     "metadata": {},
     "output_type": "display_data"
    }
   ],
   "source": [
    "#if __name__=='__main__':\n",
    "figure5_3()"
   ]
  },
  {
   "cell_type": "code",
   "execution_count": 17,
   "metadata": {
    "collapsed": true
   },
   "outputs": [],
   "source": [
    "#print(mpl.__version__)"
   ]
  },
  {
   "cell_type": "code",
   "execution_count": 16,
   "metadata": {
    "collapsed": true
   },
   "outputs": [],
   "source": [
    "#optimal_policy[:,:,0]"
   ]
  }
 ],
 "metadata": {
  "kernelspec": {
   "display_name": "Python 3",
   "language": "python",
   "name": "python3"
  },
  "language_info": {
   "codemirror_mode": {
    "name": "ipython",
    "version": 3
   },
   "file_extension": ".py",
   "mimetype": "text/x-python",
   "name": "python",
   "nbconvert_exporter": "python",
   "pygments_lexer": "ipython3",
   "version": "3.6.3"
  }
 },
 "nbformat": 4,
 "nbformat_minor": 2
}
