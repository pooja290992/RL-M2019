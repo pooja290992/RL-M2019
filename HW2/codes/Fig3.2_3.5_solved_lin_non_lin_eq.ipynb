{
 "cells": [
  {
   "cell_type": "code",
   "execution_count": 65,
   "metadata": {
    "collapsed": true
   },
   "outputs": [],
   "source": [
    "import matplotlib\n",
    "import numpy as np\n",
    "import matplotlib.pyplot as plt\n",
    "import pandas as pd\n",
    "import math \n",
    "from tqdm import trange\n",
    "from matplotlib.table import Table\n",
    "from scipy.optimize import linprog"
   ]
  },
  {
   "cell_type": "code",
   "execution_count": 204,
   "metadata": {},
   "outputs": [],
   "source": [
    "class GridWorld:\n",
    "    def __init__(self,grid_size = 5,a_xy = [0,1], a_prime_xy = [4, 1], b_xy = [0, 3], \n",
    "                 b_prime_xy = [2, 3], gamma = 0.9, a_reward = 10, b_reward = 5, penalty = -1.0):\n",
    "        self.grid_size = grid_size\n",
    "        self.A_xy  = a_xy\n",
    "        self.A_prime_xy = a_prime_xy\n",
    "        self.A_reward = a_reward\n",
    "        self.B_xy = b_xy\n",
    "        self.B_prime_xy = b_prime_xy\n",
    "        self.B_reward = b_reward\n",
    "        self.discount = gamma\n",
    "        self.actions = [np.array([0, -1]),\n",
    "                   np.array([-1, 0]),\n",
    "                   np.array([0, 1]),\n",
    "                   np.array([1, 0])]\n",
    "#         self.actions2 = [np.array([0, -1]),\n",
    "#                    np.array([1, 0]),\n",
    "#                    np.array([-1, 0]),\n",
    "#                    np.array([0, 1])]\n",
    "        self.action_prob = 1/len(self.actions)\n",
    "        print('action prob : ',self.action_prob)\n",
    "        self.penalty_reward = penalty\n",
    "        self.num_states = self.grid_size*self.grid_size\n",
    "        \n",
    "    \n",
    "    def step(self, state, action):\n",
    "        if state == self.A_xy:\n",
    "            return self.A_prime_xy, self.A_reward\n",
    "        if state == self.B_xy:\n",
    "            return self.B_prime_xy, self.B_reward\n",
    "        next_state = (np.array(state) + action).tolist()\n",
    "        x, y = next_state\n",
    "        if x < 0 or x >= self.grid_size or y < 0 or y >= self.grid_size:\n",
    "            reward = self.penalty_reward\n",
    "            next_state = state\n",
    "        else:\n",
    "            reward = 0\n",
    "        return next_state, reward\n",
    "    \n",
    "    \n",
    "    def solveBellManLinear(self):\n",
    "        A = np.zeros((self.num_states,self.num_states))\n",
    "        B = np.zeros(self.num_states)\n",
    "        for i in range(self.grid_size):\n",
    "            for j in range(self.grid_size):\n",
    "                r = i * self.grid_size + j\n",
    "                \n",
    "                #print(r)\n",
    "                tot_reward = 0\n",
    "                for action in self.actions:\n",
    "                    (next_i, next_j), reward = self.step([i, j], action)\n",
    "#                     if r == 1:\n",
    "#                         print(f'i:{i},j:{j}')\n",
    "#                         print(action)\n",
    "#                         print(f'next_i:{next_i},next_j:{next_j}')\n",
    "                    c = next_i * self.grid_size + next_j\n",
    "                    A[r,c] += self.discount * self.action_prob\n",
    "                    tot_reward += self.action_prob * reward\n",
    "                B_idx = i * self.grid_size + j\n",
    "                if tot_reward != 0.0:\n",
    "                    tot_reward *= -1\n",
    "                B[B_idx] = tot_reward\n",
    "                \n",
    "        for i in range(A.shape[0]):\n",
    "            for j in range(A.shape[1]):\n",
    "                if i == j:\n",
    "                    A[i][j] -= 1\n",
    "#         print(A)\n",
    "#         print('*'*100)\n",
    "#         print(B)\n",
    "#         print('*'*100)\n",
    "#         print(np.linalg.det(A))\n",
    "        values = np.linalg.solve(A, B)\n",
    "        values = values.reshape(self.grid_size,self.grid_size)\n",
    "        return values \n",
    "    \n",
    "        \n",
    "    def solveBellManNonLinear(self):\n",
    "        num_actions = len(self.actions)\n",
    "        shape0 = num_actions * self.num_states\n",
    "        A = np.zeros((shape0, self.num_states))\n",
    "        B = np.zeros(shape0)\n",
    "        C = np.ones(self.num_states)\n",
    "        for i in range(self.grid_size):\n",
    "            for j in range(self.grid_size):\n",
    "                r = i * self.grid_size + j\n",
    "                tot_reward = 0\n",
    "                cnt  = 0\n",
    "                for action in self.actions:\n",
    "                    k = r * num_actions + cnt\n",
    "                    (next_i, next_j), reward = self.step([i, j], action)\n",
    "                    #if r == 1:\n",
    "                        #print(k)\n",
    "                        #print(f'i:{i},j:{j}')\n",
    "                        #print(action)\n",
    "                        #print(f'next_i:{next_i},next_j:{next_j}')\n",
    "                    c = next_i * self.grid_size + next_j\n",
    "                    A[k,c] = self.discount \n",
    "                    A[k,r] -= 1\n",
    "                    tot_reward = reward\n",
    "                    if tot_reward != 0.0:\n",
    "                        tot_reward *= -1\n",
    "                    B[k] = tot_reward\n",
    "                    cnt += 1\n",
    "        \n",
    "        res = linprog(C, A_ub = A, b_ub = B)\n",
    "        values = res['x'].reshape(self.grid_size,self.grid_size)\n",
    "        #print(values)\n",
    "        return values"
   ]
  },
  {
   "cell_type": "code",
   "execution_count": 205,
   "metadata": {
    "collapsed": true
   },
   "outputs": [],
   "source": [
    "def plotGrid(value,title):\n",
    "    value = np.round(value, decimals=1)\n",
    "    fig, ax = plt.subplots()\n",
    "    ax.set_axis_off()\n",
    "    tb = Table(ax, bbox=[0, 0, 1, 1])\n",
    "\n",
    "    nrows, ncols = value.shape\n",
    "    width, height = 1.0 / ncols, 1.0 / nrows\n",
    "    for (i, j), val in np.ndenumerate(value):\n",
    "        tb.add_cell(i, j, width, height, text=val,\n",
    "                    loc='center')\n",
    "    ax.add_table(tb)\n",
    "    plt.title(title)\n",
    "    plt.show()\n",
    "    "
   ]
  },
  {
   "cell_type": "code",
   "execution_count": 206,
   "metadata": {
    "collapsed": true
   },
   "outputs": [],
   "source": [
    "def figure3_2():\n",
    "    grid = GridWorld()\n",
    "    value = grid.solveBellManLinear()\n",
    "    title = 'v(s) with random policy'\n",
    "    plotGrid(value,title)"
   ]
  },
  {
   "cell_type": "code",
   "execution_count": 210,
   "metadata": {
    "collapsed": true
   },
   "outputs": [],
   "source": [
    "def figure3_5():\n",
    "    grid = GridWorld()\n",
    "    value = grid.solveBellManNonLinear()\n",
    "    title = r'$v_*(s)$' + ' with optimal policy'\n",
    "    plotGrid(value,title)"
   ]
  },
  {
   "cell_type": "code",
   "execution_count": 211,
   "metadata": {},
   "outputs": [
    {
     "name": "stdout",
     "output_type": "stream",
     "text": [
      "action prob :  0.25\n"
     ]
    },
    {
     "data": {
      "image/png": "[encoded data removed]",
      "text/plain": [
       "<Figure size 432x288 with 1 Axes>"
      ]
     },
     "metadata": {},
     "output_type": "display_data"
    }
   ],
   "source": [
    "figure3_2()"
   ]
  },
  {
   "cell_type": "code",
   "execution_count": 212,
   "metadata": {},
   "outputs": [
    {
     "name": "stdout",
     "output_type": "stream",
     "text": [
      "action prob :  0.25\n"
     ]
    },
    {
     "data": {
      "image/png": "[encoded data removed]",
      "text/plain": [
       "<Figure size 432x288 with 1 Axes>"
      ]
     },
     "metadata": {},
     "output_type": "display_data"
    }
   ],
   "source": [
    "figure3_5()"
   ]
  },
  {
   "cell_type": "code",
   "execution_count": null,
   "metadata": {
    "collapsed": true
   },
   "outputs": [],
   "source": []
  }
 ],
 "metadata": {
  "kernelspec": {
   "display_name": "Python 3",
   "language": "python",
   "name": "python3"
  },
  "language_info": {
   "codemirror_mode": {
    "name": "ipython",
    "version": 3
   },
   "file_extension": ".py",
   "mimetype": "text/x-python",
   "name": "python",
   "nbconvert_exporter": "python",
   "pygments_lexer": "ipython3",
   "version": "3.6.3"
  }
 },
 "nbformat": 4,
 "nbformat_minor": 2
}
