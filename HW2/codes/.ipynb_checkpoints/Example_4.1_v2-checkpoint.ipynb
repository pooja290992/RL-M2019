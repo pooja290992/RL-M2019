{
 "cells": [
  {
   "cell_type": "code",
   "execution_count": 1,
   "metadata": {
    "collapsed": true
   },
   "outputs": [],
   "source": [
    "import matplotlib\n",
    "import numpy as np\n",
    "import matplotlib.pyplot as plt\n",
    "import pandas as pd\n",
    "import math \n",
    "from tqdm import trange\n",
    "from matplotlib.table import Table\n",
    "import time"
   ]
  },
  {
   "cell_type": "code",
   "execution_count": 2,
   "metadata": {
    "collapsed": true
   },
   "outputs": [],
   "source": [
    "class GridWorld:\n",
    "    def __init__(self,grid_size = 5, gamma = 0.9, penalty = -1.0, theta = 1e-3):\n",
    "        self.grid_size = grid_size\n",
    "        self.discount = gamma\n",
    "        self.actions = [np.array([0, -1]),\n",
    "                   np.array([-1, 0]),\n",
    "                   np.array([0, 1]),\n",
    "                   np.array([1, 0])]\n",
    "        self.action_prob = 0.25#1/len(self.actions)\n",
    "        self.theta = theta\n",
    "        print('action prob : ',self.action_prob)\n",
    "        self.penalty_reward = penalty\n",
    "        self.re_init()\n",
    "    \n",
    "    def re_init(self):\n",
    "        self.values = np.zeros((self.grid_size, self.grid_size))\n",
    "        #self.policy = np.zeros((self.grid_size, self.grid_size, len(self.actions)), dtype=np.int)\n",
    "        #self.policy = np.zeros(self.values.shape, dtype=np.int)\n",
    "        self.policy = np.ones((self.grid_size, self.grid_size, len(self.actions)))/len(self.actions)\n",
    "        #self.policy = np.random.randint(0,len(self.actions), size=(self.grid_size , self.grid_size ))\n",
    "        #print(self.policy)\n",
    "        \n",
    "    \n",
    "    def checkTerminal(self,state):\n",
    "        x, y = state\n",
    "        if x == 0 and y == 0:\n",
    "            return 1\n",
    "        elif (x == self.grid_size - 1 and y == self.grid_size - 1):\n",
    "            return 1\n",
    "        else : \n",
    "            return 0\n",
    "        \n",
    "    \n",
    "    def step(self, state, action):\n",
    "        #print(state)\n",
    "        if self.checkTerminal(state):\n",
    "            next_state = state\n",
    "            reward = 0\n",
    "        else:\n",
    "            next_state = (np.array(state) + action).tolist()\n",
    "            x, y = next_state\n",
    "            if x < 0 or x >= self.grid_size or y < 0 or y >= self.grid_size:\n",
    "                next_state = state\n",
    "            reward = self.penalty_reward     \n",
    "            \n",
    "        return next_state, reward\n",
    "    \n",
    "    \n",
    "    def compStateValue(self, in_place_flag = True, random_flag = True):\n",
    "        new_state_values = np.zeros((self.grid_size, self.grid_size))\n",
    "        iter_cnt = 0\n",
    "        while True:\n",
    "            if in_place_flag:\n",
    "                state_values = new_state_values\n",
    "            else:\n",
    "                state_values = new_state_values.copy()\n",
    "            old_state_values = state_values.copy()\n",
    "\n",
    "            for i in range(self.grid_size):\n",
    "                for j in range(self.grid_size):\n",
    "                    value = 0\n",
    "                    for action in self.actions:\n",
    "                        (next_i, next_j), reward = self.step([i, j], action)\n",
    "                        value += self.action_prob * (reward + self.discount * state_values[next_i, next_j])\n",
    "                    new_state_values[i, j] = value\n",
    "\n",
    "            max_delta_value = abs(old_state_values - new_state_values).max()\n",
    "            iter_cnt += 1\n",
    "            if max_delta_value < 1e-3:\n",
    "                break\n",
    "\n",
    "        return new_state_values, iter_cnt\n",
    "    \n",
    "    \n",
    "    def compValueIteration(self):\n",
    "        new_state_values = np.zeros((self.grid_size, self.grid_size))\n",
    "        policy = np.zeros((self.grid_size, self.grid_size))\n",
    "        iter_cnt = 0\n",
    "        log_dict = {}\n",
    "        while True:\n",
    "            #delta = 0\n",
    "            log_dict[iter_cnt] = {}\n",
    "            state_values = new_state_values.copy()\n",
    "            old_state_values = state_values.copy()\n",
    "            \n",
    "            for i in range(self.grid_size):\n",
    "                for j in range(self.grid_size):\n",
    "                    values = []\n",
    "                    for action in self.actions:\n",
    "                        (next_i, next_j), reward = self.step([i, j], action)\n",
    "                        values.append(reward + self.discount*state_values[next_i, next_j])\n",
    "                    new_state_values[i, j] = np.max(values)\n",
    "                    policy[i, j] = np.argmax(values)\n",
    "                    #delta = max(delta, np.abs(old_state_values[i, j] - new_state_values[i, j]))\n",
    "            delta = np.abs(old_state_values - new_state_values).max()        \n",
    "            print(f'Difference: {delta}')\n",
    "            log_dict[iter_cnt]['VI'] = new_state_values\n",
    "            iter_cnt += 1\n",
    "            if delta < self.theta:\n",
    "                break\n",
    "            \n",
    "            print(new_state_values)\n",
    "        return new_state_values, policy, iter_cnt, log_dict\n",
    "     \n",
    "    \n",
    "    \n",
    "    def policyEvaluation(self,policy,new_state_values):\n",
    "        #new_state_values = np.zeros((self.grid_size, self.grid_size))\n",
    "        iter_cnt = 0\n",
    "        while True:\n",
    "            delta = 0 \n",
    "            state_values = new_state_values.copy()\n",
    "            old_state_values = state_values.copy()\n",
    "            for i in range(self.grid_size):\n",
    "                for j in range(self.grid_size):\n",
    "                    value = 0\n",
    "                    for action,action_prob in enumerate(policy[i, j]):\n",
    "                        (next_i, next_j), reward = self.step([i, j], self.actions[action])\n",
    "                        value += action_prob * (reward + self.discount * state_values[next_i, next_j])\n",
    "                    new_state_values[i, j] = value\n",
    "                    delta = max(delta, np.abs(old_state_values[i, j] - new_state_values[i, j]))\n",
    "            iter_cnt += 1\n",
    "            #print(f'Difference: {delta}')\n",
    "            if delta < self.theta:\n",
    "                break\n",
    "            \n",
    "            #print(new_state_values)\n",
    "        return new_state_values\n",
    "    \n",
    "    \n",
    "    def policyImprovement(self, policy, values, actions):\n",
    "        policy_stable = True\n",
    "        \n",
    "        for i in range(self.grid_size):\n",
    "            for j in range(self.grid_size):\n",
    "                #old_action = policy[i, j]\n",
    "                old_action = np.argmax(policy[i, j])\n",
    "                act_cnt = 0\n",
    "                expected_rewards = []\n",
    "                for action in self.actions:\n",
    "                    (next_i, next_j), reward = self.step([i, j], action)\n",
    "                    expected_rewards.append(self.action_prob * (reward + self.discount * values[next_i, next_j]))\n",
    "                new_action = np.argmax(expected_rewards)\n",
    "                #print('new_action : ',new_action)\n",
    "                #print('old_action : ',old_action)\n",
    "                if old_action != new_action:\n",
    "                    policy_stable = False\n",
    "                #policy[i, j] = new_action\n",
    "                policy[i, j] = np.eye(len(self.actions))[new_action]\n",
    "        return policy, policy_stable\n",
    "        \n",
    "        \n",
    "        \n",
    "    def solve(self):\n",
    "        iterations = 0\n",
    "        total_start_time = time.time()\n",
    "        log_dict = {}\n",
    "        \n",
    "        while True:\n",
    "            log_dict[iterations] = {}\n",
    "            start_time = time.time()\n",
    "            self.values = self.policyEvaluation(self.policy,self.values)\n",
    "            elapsed_time = time.time() - start_time\n",
    "            print(f'PE => Elapsed time {elapsed_time} seconds')\n",
    "            start_time = time.time()\n",
    "            log_dict[iterations]['PE'] = self.values    \n",
    "            self.policy, policy_stable = self.policyImprovement(self.policy,self.values, self.actions)\n",
    "            r,c,v = self.policy.shape\n",
    "            policy = np.zeros((self.grid_size,self.grid_size))\n",
    "            for i in range(r):\n",
    "                for j in range(c):\n",
    "                    policy[i, j] = np.argmax(self.policy[i,j])\n",
    "            log_dict[iterations]['PI'] = policy\n",
    "            log_dict[iterations]['Pol_stable'] = policy_stable\n",
    "            elapsed_time = time.time() - start_time\n",
    "            print(f'PI => Elapsed time {elapsed_time} seconds')\n",
    "            \n",
    "            iterations += 1\n",
    "            if policy_stable:\n",
    "                break\n",
    "                \n",
    "        total_elapsed_time = time.time() - total_start_time\n",
    "        print(f'Optimal policy is reached after {iterations} iterations in {total_elapsed_time} seconds')\n",
    "        #print(self.policy)  \n",
    "                    \n",
    "        return self.values, policy, iterations, log_dict"
   ]
  },
  {
   "cell_type": "code",
   "execution_count": 3,
   "metadata": {
    "collapsed": true
   },
   "outputs": [],
   "source": [
    "def plotGrid(value,title):\n",
    "    value = np.round(value, decimals=1)\n",
    "    fig, ax = plt.subplots()\n",
    "    ax.set_axis_off()\n",
    "    tb = Table(ax, bbox=[0, 0, 1, 1])\n",
    "\n",
    "    nrows, ncols = value.shape\n",
    "    width, height = 1.0 / ncols, 1.0 / nrows\n",
    "    for (i, j), val in np.ndenumerate(value):\n",
    "        tb.add_cell(i, j, width, height, text=val,\n",
    "                    loc='center')\n",
    "    ax.add_table(tb)\n",
    "    plt.title(title)\n",
    "    plt.show()\n",
    "    "
   ]
  },
  {
   "cell_type": "code",
   "execution_count": 4,
   "metadata": {
    "collapsed": true
   },
   "outputs": [],
   "source": [
    "def figure_4_1():\n",
    "    grid = GridWorld(grid_size = 4, gamma = 1.0)\n",
    "    values, sync_iteration = grid.compStateValue(in_place_flag = False)\n",
    "    title = 'Grid world'\n",
    "    plotGrid(values,title)\n",
    "    print('Synchronous: {} iterations'.format(sync_iteration))\n",
    "    print('*'*100)\n",
    "    print('*'*100)\n",
    "    values, policy, iter_cnt,log_dict1 = grid.compValueIteration()\n",
    "    title = 'Grid world : V(s) with Value Iteration'\n",
    "    plotGrid(values,title)\n",
    "    title = 'Grid world : pi(s) with Value Iteration'\n",
    "    plotGrid(policy,title)\n",
    "    print('iterations : {} '.format(iter_cnt))\n",
    "    print('Synchronous: {} iterations'.format(sync_iteration))\n",
    "    values, policy, iter_cnt, log_dict2 = grid.solve()\n",
    "    title = 'Grid world : V(s) with Policy Iteration'\n",
    "    plotGrid(values,title)\n",
    "    title = 'Grid world : pi(s) with Policy Iteration'\n",
    "    plotGrid(policy,title)\n",
    "    return log_dict1, log_dict2"
   ]
  },
  {
   "cell_type": "code",
   "execution_count": 5,
   "metadata": {},
   "outputs": [
    {
     "name": "stdout",
     "output_type": "stream",
     "text": [
      "action prob :  0.25\n"
     ]
    },
    {
     "data": {
      "image/png": "[encoded data removed]",
      "text/plain": [
       "<Figure size 432x288 with 1 Axes>"
      ]
     },
     "metadata": {},
     "output_type": "display_data"
    },
    {
     "name": "stdout",
     "output_type": "stream",
     "text": [
      "Synchronous: 131 iterations\n",
      "****************************************************************************************************\n",
      "****************************************************************************************************\n",
      "Difference: 1.0\n",
      "[[ 0. -1. -1. -1.]\n",
      " [-1. -1. -1. -1.]\n",
      " [-1. -1. -1. -1.]\n",
      " [-1. -1. -1.  0.]]\n",
      "Difference: 1.0\n",
      "[[ 0. -1. -2. -2.]\n",
      " [-1. -2. -2. -2.]\n",
      " [-2. -2. -2. -1.]\n",
      " [-2. -2. -1.  0.]]\n",
      "Difference: 1.0\n",
      "[[ 0. -1. -2. -3.]\n",
      " [-1. -2. -3. -2.]\n",
      " [-2. -3. -2. -1.]\n",
      " [-3. -2. -1.  0.]]\n",
      "Difference: 0.0\n"
     ]
    },
    {
     "data": {
      "image/png": "[encoded data removed]",
      "text/plain": [
       "<Figure size 432x288 with 1 Axes>"
      ]
     },
     "metadata": {},
     "output_type": "display_data"
    },
    {
     "data": {
      "image/png": "[encoded data removed]",
      "text/plain": [
       "<Figure size 432x288 with 1 Axes>"
      ]
     },
     "metadata": {},
     "output_type": "display_data"
    },
    {
     "name": "stdout",
     "output_type": "stream",
     "text": [
      "iterations : 4 \n",
      "Synchronous: 131 iterations\n",
      "PE => Elapsed time 0.026248693466186523 seconds\n",
      "PI => Elapsed time 0.0005726814270019531 seconds\n",
      "PE => Elapsed time 0.0016846656799316406 seconds\n",
      "PI => Elapsed time 0.0010223388671875 seconds\n",
      "PE => Elapsed time 0.0005040168762207031 seconds\n",
      "PI => Elapsed time 0.0008714199066162109 seconds\n",
      "Optimal policy is reached after 3 iterations in 0.03174424171447754 seconds\n"
     ]
    },
    {
     "data": {
      "image/png": "[encoded data removed]",
      "text/plain": [
       "<Figure size 432x288 with 1 Axes>"
      ]
     },
     "metadata": {},
     "output_type": "display_data"
    },
    {
     "data": {
      "image/png": "[encoded data removed]",
      "text/plain": [
       "<Figure size 432x288 with 1 Axes>"
      ]
     },
     "metadata": {},
     "output_type": "display_data"
    }
   ],
   "source": [
    "log_dict1,log_dict2 = figure_4_1()"
   ]
  },
  {
   "cell_type": "code",
   "execution_count": 6,
   "metadata": {
    "collapsed": true
   },
   "outputs": [],
   "source": [
    "log_df1 = pd.DataFrame.from_dict(log_dict1,orient='index').reset_index()\n",
    "log_df2 = pd.DataFrame.from_dict(log_dict2,orient='index').reset_index()"
   ]
  },
  {
   "cell_type": "code",
   "execution_count": 7,
   "metadata": {},
   "outputs": [
    {
     "data": {
      "text/html": [
       "<div>\n",
       "<style scoped>\n",
       "    .dataframe tbody tr th:only-of-type {\n",
       "        vertical-align: middle;\n",
       "    }\n",
       "\n",
       "    .dataframe tbody tr th {\n",
       "        vertical-align: top;\n",
       "    }\n",
       "\n",
       "    .dataframe thead th {\n",
       "        text-align: right;\n",
       "    }\n",
       "</style>\n",
       "<table border=\"1\" class=\"dataframe\">\n",
       "  <thead>\n",
       "    <tr style=\"text-align: right;\">\n",
       "      <th></th>\n",
       "      <th>index</th>\n",
       "      <th>VI</th>\n",
       "    </tr>\n",
       "  </thead>\n",
       "  <tbody>\n",
       "    <tr>\n",
       "      <th>0</th>\n",
       "      <td>0</td>\n",
       "      <td>[[0.0, -1.0, -2.0, -3.0], [-1.0, -2.0, -3.0, -...</td>\n",
       "    </tr>\n",
       "    <tr>\n",
       "      <th>1</th>\n",
       "      <td>1</td>\n",
       "      <td>[[0.0, -1.0, -2.0, -3.0], [-1.0, -2.0, -3.0, -...</td>\n",
       "    </tr>\n",
       "    <tr>\n",
       "      <th>2</th>\n",
       "      <td>2</td>\n",
       "      <td>[[0.0, -1.0, -2.0, -3.0], [-1.0, -2.0, -3.0, -...</td>\n",
       "    </tr>\n",
       "    <tr>\n",
       "      <th>3</th>\n",
       "      <td>3</td>\n",
       "      <td>[[0.0, -1.0, -2.0, -3.0], [-1.0, -2.0, -3.0, -...</td>\n",
       "    </tr>\n",
       "  </tbody>\n",
       "</table>\n",
       "</div>"
      ],
      "text/plain": [
       "   index                                                 VI\n",
       "0      0  [[0.0, -1.0, -2.0, -3.0], [-1.0, -2.0, -3.0, -...\n",
       "1      1  [[0.0, -1.0, -2.0, -3.0], [-1.0, -2.0, -3.0, -...\n",
       "2      2  [[0.0, -1.0, -2.0, -3.0], [-1.0, -2.0, -3.0, -...\n",
       "3      3  [[0.0, -1.0, -2.0, -3.0], [-1.0, -2.0, -3.0, -..."
      ]
     },
     "metadata": {},
     "output_type": "display_data"
    },
    {
     "data": {
      "text/html": [
       "<div>\n",
       "<style scoped>\n",
       "    .dataframe tbody tr th:only-of-type {\n",
       "        vertical-align: middle;\n",
       "    }\n",
       "\n",
       "    .dataframe tbody tr th {\n",
       "        vertical-align: top;\n",
       "    }\n",
       "\n",
       "    .dataframe thead th {\n",
       "        text-align: right;\n",
       "    }\n",
       "</style>\n",
       "<table border=\"1\" class=\"dataframe\">\n",
       "  <thead>\n",
       "    <tr style=\"text-align: right;\">\n",
       "      <th></th>\n",
       "      <th>index</th>\n",
       "      <th>PE</th>\n",
       "      <th>PI</th>\n",
       "      <th>Pol_stable</th>\n",
       "    </tr>\n",
       "  </thead>\n",
       "  <tbody>\n",
       "    <tr>\n",
       "      <th>0</th>\n",
       "      <td>0</td>\n",
       "      <td>[[0.0, -1.0, -2.0, -3.0], [-1.0, -2.0, -3.0, -...</td>\n",
       "      <td>[[[1.0, 0.0, 0.0, 0.0], [1.0, 0.0, 0.0, 0.0], ...</td>\n",
       "      <td>False</td>\n",
       "    </tr>\n",
       "    <tr>\n",
       "      <th>1</th>\n",
       "      <td>1</td>\n",
       "      <td>[[0.0, -1.0, -2.0, -3.0], [-1.0, -2.0, -3.0, -...</td>\n",
       "      <td>[[[1.0, 0.0, 0.0, 0.0], [1.0, 0.0, 0.0, 0.0], ...</td>\n",
       "      <td>False</td>\n",
       "    </tr>\n",
       "    <tr>\n",
       "      <th>2</th>\n",
       "      <td>2</td>\n",
       "      <td>[[0.0, -1.0, -2.0, -3.0], [-1.0, -2.0, -3.0, -...</td>\n",
       "      <td>[[[1.0, 0.0, 0.0, 0.0], [1.0, 0.0, 0.0, 0.0], ...</td>\n",
       "      <td>True</td>\n",
       "    </tr>\n",
       "  </tbody>\n",
       "</table>\n",
       "</div>"
      ],
      "text/plain": [
       "   index                                                 PE  \\\n",
       "0      0  [[0.0, -1.0, -2.0, -3.0], [-1.0, -2.0, -3.0, -...   \n",
       "1      1  [[0.0, -1.0, -2.0, -3.0], [-1.0, -2.0, -3.0, -...   \n",
       "2      2  [[0.0, -1.0, -2.0, -3.0], [-1.0, -2.0, -3.0, -...   \n",
       "\n",
       "                                                  PI  Pol_stable  \n",
       "0  [[[1.0, 0.0, 0.0, 0.0], [1.0, 0.0, 0.0, 0.0], ...       False  \n",
       "1  [[[1.0, 0.0, 0.0, 0.0], [1.0, 0.0, 0.0, 0.0], ...       False  \n",
       "2  [[[1.0, 0.0, 0.0, 0.0], [1.0, 0.0, 0.0, 0.0], ...        True  "
      ]
     },
     "metadata": {},
     "output_type": "display_data"
    }
   ],
   "source": [
    "#figure_4_1()\n",
    "display(log_df1)\n",
    "display(log_df2)"
   ]
  },
  {
   "cell_type": "code",
   "execution_count": 9,
   "metadata": {
    "collapsed": true
   },
   "outputs": [],
   "source": [
    "path_vi = '../Results/value_iteration_log2.csv'\n",
    "path_pi = '../Results/policy_iteration_log2.csv'\n",
    "log_df1.to_csv(path_vi,sep = ',')\n",
    "log_df2.to_csv(path_pi,sep = ',')"
   ]
  },
  {
   "cell_type": "code",
   "execution_count": null,
   "metadata": {
    "collapsed": true
   },
   "outputs": [],
   "source": []
  }
 ],
 "metadata": {
  "kernelspec": {
   "display_name": "Python 3",
   "language": "python",
   "name": "python3"
  },
  "language_info": {
   "codemirror_mode": {
    "name": "ipython",
    "version": 3
   },
   "file_extension": ".py",
   "mimetype": "text/x-python",
   "name": "python",
   "nbconvert_exporter": "python",
   "pygments_lexer": "ipython3",
   "version": "3.6.3"
  }
 },
 "nbformat": 4,
 "nbformat_minor": 2
}
