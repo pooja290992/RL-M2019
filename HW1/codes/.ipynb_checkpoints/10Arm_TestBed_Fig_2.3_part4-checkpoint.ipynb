{
 "cells": [
  {
   "cell_type": "code",
   "execution_count": 7,
   "metadata": {
    "collapsed": true
   },
   "outputs": [],
   "source": [
    "import numpy as np\n",
    "import pandas as pd \n",
    "import matplotlib.pyplot as plt\n",
    "import random\n",
    "import time\n",
    "import os\n",
    "import math\n",
    "import matplotlib\n",
    "from tqdm import trange\n",
    "from pylab import normal\n",
    "import matplotlib.ticker as ticker"
   ]
  },
  {
   "cell_type": "markdown",
   "metadata": {},
   "source": [
    "# TEN-ARMED Bandit Testbed"
   ]
  },
  {
   "cell_type": "code",
   "execution_count": null,
   "metadata": {
    "collapsed": true
   },
   "outputs": [],
   "source": []
  },
  {
   "cell_type": "code",
   "execution_count": 8,
   "metadata": {
    "collapsed": true
   },
   "outputs": [],
   "source": [
    "seed_val = 1\n",
    "np.random.seed(seed_val)"
   ]
  },
  {
   "cell_type": "code",
   "execution_count": 9,
   "metadata": {
    "collapsed": true
   },
   "outputs": [],
   "source": [
    "class NArmedBandit:\n",
    "    \n",
    "    #10-armed bandit testbed with sample averages \n",
    "    def __init__(self,k=10,step_size = 0.1,eps = 0,UCB_c = None, sample_avg_flag = False,is_stationary = True,\n",
    "                 init_estimates = 0.0,mu = 0, std_dev = 1, nsteps = 0):\n",
    "        self.k = k\n",
    "        self.step_size = step_size\n",
    "        self.eps = eps\n",
    "        self.init_estimates = init_estimates\n",
    "        self.mu = mu\n",
    "        self.std_dev = std_dev\n",
    "        self.actions = np.zeros(k)\n",
    "        self.true_reward = 0.0\n",
    "        self.UCB_c = UCB_c\n",
    "        self.nsteps = nsteps\n",
    "        self.sample_avg_flag = sample_avg_flag\n",
    "        self.is_stationary = is_stationary\n",
    "        self.re_init()\n",
    "        \n",
    "        \n",
    "    def re_init(self):\n",
    "        \n",
    "        #true values of rewards for each action\n",
    "#         if self.is_stationary:\n",
    "#             self.actions = np.random.normal(self.mu,self.std_dev,self.k) \n",
    "#         else:\n",
    "#             true_value = 0.0\n",
    "#             self.actions = [true_value]*self.k\n",
    "        self.actions = np.random.normal(self.mu,self.std_dev,self.k) \n",
    "        \n",
    "\n",
    "        # estimation for each action\n",
    "        self.Q_t = np.zeros(self.k) + self.init_estimates\n",
    "\n",
    "        # num of chosen times for each action\n",
    "        self.N_t = np.zeros(self.k)\n",
    "\n",
    "        #best action chosen\n",
    "        self.optim_action = np.argmax(self.actions)\n",
    "\n",
    "        self.time_step = 0\n",
    "        \n",
    "    \n",
    "    \n",
    "    def changeArms(self,ch_mu = 0, ch_std = 0.01):\n",
    "        #true value of rewards changes every step with increment taken from a distribution (mu=0,std = 0.01)\n",
    "        for i in range(self.k):\n",
    "            walk_step = normal(ch_mu,ch_std)\n",
    "            self.actions[i] = self.actions[i] + walk_step\n",
    "\n",
    "            #update best action chosen\n",
    "        self.optim_action = np.argmax(self.actions)\n",
    "\n",
    "        \n",
    "    \n",
    "    def act(self):\n",
    "        val = np.random.rand()\n",
    "        if val < self.eps:\n",
    "            A_t = np.random.choice(np.arange(self.k))\n",
    "            #print('action 1:',A_t)\n",
    "        elif self.UCB_c is not None:\n",
    "            #1e-5 is added so as to avoid division by zero\n",
    "            ucb_estimates = self.Q_t + self.UCB_c * np.sqrt(np.log(self.time_step + 1) / (self.N_t + 1e-5))\n",
    "            #max_estim = np.max(ucb_estimates)\n",
    "            #A_t = np.random.choice(np.where(ucb_estimates == max_estim)[0])\n",
    "            A_t = np.argmax(ucb_estimates)\n",
    "        else:\n",
    "            #max_estim = np.max(self.Q_t)\n",
    "            #A_t = np.random.choice(np.where(self.Q_t == max_estim)[0])\n",
    "            A_t = np.argmax(self.Q_t)\n",
    "            #print('action 2:',A_t)\n",
    "        return A_t\n",
    "    \n",
    "    \n",
    "    \n",
    "    def step(self,action):\n",
    "        \n",
    "        # generating the reward under N(real reward, 1)\n",
    "        reward = np.random.randn() + self.actions[action]\n",
    "        self.time_step += 1\n",
    "        self.N_t[action] += 1\n",
    "        \n",
    "\n",
    "        # estimation with sample averages\n",
    "        if self.sample_avg_flag == True:\n",
    "            self.Q_t[action] += (reward - self.Q_t[action]) / self.N_t[action]\n",
    "        else:\n",
    "            # non-staationary with constant step size \n",
    "            self.Q_t[action] += self.step_size * (reward - self.Q_t[action])\n",
    "            \n",
    "        return reward\n",
    "    \n",
    "    \n",
    "    def play(self,tasks,num_time_steps):\n",
    "        rewards = np.zeros((tasks, num_time_steps))\n",
    "        optim_action_counts = np.zeros(rewards.shape)\n",
    "        for task in trange(tasks):\n",
    "            self.re_init()\n",
    "            for t in range(num_time_steps):\n",
    "                action = self.act()\n",
    "                reward = self.step(action)\n",
    "                rewards[task, t] = reward\n",
    "                if action == self.optim_action:\n",
    "                    optim_action_counts[task, t] = 1\n",
    "                if not self.is_stationary:\n",
    "                    self.changeArms(ch_mu = 0, ch_std = 0.01)\n",
    "        avg_optim_action_counts = optim_action_counts.mean(axis=0)*100\n",
    "        avg_rewards = rewards.mean(axis=0)\n",
    "        return avg_optim_action_counts, avg_rewards"
   ]
  },
  {
   "cell_type": "code",
   "execution_count": null,
   "metadata": {
    "collapsed": true
   },
   "outputs": [],
   "source": []
  },
  {
   "cell_type": "code",
   "execution_count": 10,
   "metadata": {
    "collapsed": true
   },
   "outputs": [],
   "source": [
    "def fig_2_3(epsilons,tasks, num_time_steps, step_szie = 0.1, UCB_c = None, sample_avg_flag = False,is_stationary = True, nsteps = 0):\n",
    "    eps_results = {}\n",
    "    for eps in epsilons: \n",
    "        print('running for eps : ', eps)\n",
    "        eps_results[eps] = {}\n",
    "        if eps == 0.0:\n",
    "            bandit = NArmedBandit(k=10, step_size = step_szie, eps = eps, UCB_c = UCB_c, sample_avg_flag = False, \n",
    "                                  is_stationary = is_stationary, init_estimates = 5.0,mu = 0, std_dev = 1,nsteps = nsteps)\n",
    "        elif eps == 0.1:\n",
    "            bandit = NArmedBandit(k=10, step_size = step_szie, eps = eps, UCB_c = UCB_c, sample_avg_flag = False, \n",
    "                                  is_stationary = is_stationary, init_estimates = 0.0,mu = 0, std_dev = 1,nsteps = nsteps)\n",
    "        avg_optim_action_counts,avg_rewards = bandit.play(tasks=tasks,num_time_steps = num_time_steps)\n",
    "        eps_results[eps]['Optim_Action_Counts'] = avg_optim_action_counts#avg_rewards#avg_optim_action_counts\n",
    "        #eps_results[eps]['Average_Rewards'] = avg_rewards\n",
    "        \n",
    "    \n",
    "    \n",
    "    #if plot_opt_cnt == True:\n",
    "    fig, ax = plt.subplots()\n",
    "    for eps in epsilons:\n",
    "        if eps == 0.0:\n",
    "            ax.plot(eps_results[eps]['Optim_Action_Counts'],label ='optimistic, greedy, ' + r'$\\epsilon$' + ' = {:.01f}, Q1 = {}' .format(eps,5))\n",
    "        elif eps == 0.1:\n",
    "            ax.plot(eps_results[eps]['Optim_Action_Counts'],label ='realistic, ' + r'$\\epsilon$' + '-greedy, ' + r'$\\epsilon$' + ' = {:.01f}, Q1 = {}' .format(eps,0))\n",
    "    ax.set_xlabel('Steps')\n",
    "    ax.set_ylabel('% Optimal Action')\n",
    "    if is_stationary:\n",
    "        ax.set_title('Optimistic greedy vs. ' + r'$\\epsilon$' + '-greedy for Stationary')\n",
    "    else:\n",
    "        ax.set_title('Optimistic greedy vs. ' + r'$\\epsilon$' + '-greedy for Non-Stationary')\n",
    "    ax.legend(frameon=True)\n",
    "    ax.yaxis.set_major_formatter(ticker.PercentFormatter())\n",
    "    plt.show()\n",
    "    "
   ]
  },
  {
   "cell_type": "code",
   "execution_count": 11,
   "metadata": {
    "collapsed": true
   },
   "outputs": [],
   "source": [
    "def part4(bandit_types,tasks, num_time_steps, step_szie = 0.1, UCB_c = None, sample_avg_flag = False,is_stationary = True,nsteps = 0):\n",
    "    bandit_results = {}\n",
    "    for bandit_type in bandit_types: \n",
    "        print('running for bandit_type : ', bandit_type)\n",
    "        bandit_results[bandit_type] = {}\n",
    "        if bandit_type == 'UCB':\n",
    "            bandit = NArmedBandit(k=10, step_size = step_szie, eps = 0.0, UCB_c = UCB_c, sample_avg_flag = sample_avg_flag, \n",
    "                                  is_stationary = is_stationary,init_estimates = 0.0,mu = 0, std_dev = 1,nsteps = nsteps)\n",
    "        elif bandit_type == 'Optimistic':\n",
    "            bandit = NArmedBandit(k=10, step_size = step_szie, eps = 0.0, UCB_c = None, sample_avg_flag = sample_avg_flag, \n",
    "                                  is_stationary = is_stationary, init_estimates = 5.0,mu = 0, std_dev = 1,nsteps = nsteps)\n",
    "        elif bandit_type == 'E-greedy':\n",
    "            bandit = NArmedBandit(k=10, step_size = step_szie, eps = 0.1, UCB_c = None, sample_avg_flag = sample_avg_flag, \n",
    "                                  is_stationary = is_stationary,init_estimates = 0.0,mu = 0, std_dev = 1,nsteps = nsteps)\n",
    "        avg_optim_action_counts,avg_rewards = bandit.play(tasks=tasks,num_time_steps = num_time_steps)\n",
    "        bandit_results[bandit_type]['Optim_Action_Counts'] = avg_optim_action_counts\n",
    "        bandit_results[bandit_type]['Average_Rewards'] = avg_rewards\n",
    "    \n",
    "    \n",
    "    #if plot_opt_cnt == True:\n",
    "    title = ''\n",
    "    for bandit_type in bandit_types: \n",
    "        if bandit_type == 'UCB':\n",
    "            title += 'UCB'\n",
    "            plt.plot(bandit_results[bandit_type]['Average_Rewards'],label = 'UCB c = {}' .format(UCB_c))\n",
    "        elif bandit_type == 'Optimistic':\n",
    "            title += ' vs Optimistic'\n",
    "            plt.plot(bandit_results[bandit_type]['Average_Rewards'],label ='optimistic, greedy, ' + r'$\\epsilon$' + '= {:.01f}, Q1 = {}' .format(0.0,5))\n",
    "        elif bandit_type == 'E-greedy':\n",
    "            title += ' vs' + r'$\\epsilon$' + '-greedy'\n",
    "            plt.plot(bandit_results[bandit_type]['Average_Rewards'],label = r'$\\epsilon-greedy, \\epsilon$' + ' = {:.01f}' .format(0.1))\n",
    "    if is_stationary:\n",
    "        title += ' for Stationary'\n",
    "    else:\n",
    "        title += ' for Non-Stationary'\n",
    "    plt.xlabel('Steps')\n",
    "    plt.ylabel('Average Reward')\n",
    "    plt.title(title)\n",
    "    plt.legend(frameon=True)\n",
    "    plt.show()\n",
    "    \n",
    "    \n",
    "    title = ''\n",
    "    fig, ax = plt.subplots()\n",
    "    for bandit_type in bandit_types: \n",
    "        if bandit_type == 'UCB':\n",
    "            title += 'UCB'\n",
    "            ax.plot(bandit_results[bandit_type]['Optim_Action_Counts'],label = 'UCB c = {}' .format(UCB_c))\n",
    "        elif bandit_type == 'Optimistic':\n",
    "            title += ' vs Optimistic'\n",
    "            ax.plot(bandit_results[bandit_type]['Optim_Action_Counts'],label ='optimistic, greedy, ' + r'$\\epsilon$' + ' = {:.01f}, Q1 = {}' .format(0.0,5))\n",
    "        elif bandit_type == 'E-greedy':\n",
    "            title += ' vs ' + r'$\\epsilon$' + '-greedy'\n",
    "            ax.plot(bandit_results[bandit_type]['Optim_Action_Counts'],label = r'$\\epsilon-greedy, \\epsilon$' + ' = {:.01f}' .format(0.1))\n",
    "    if is_stationary:\n",
    "        title += ' for Stationary'\n",
    "    else:\n",
    "        title += ' for Non-Stationary'\n",
    "    ax.set_xlabel('Steps')\n",
    "    ax.set_ylabel('% Optimal Action')\n",
    "    ax.set_title(title)\n",
    "    ax.legend(frameon=True)\n",
    "    ax.yaxis.set_major_formatter(ticker.PercentFormatter())\n",
    "    plt.show()\n",
    "    "
   ]
  },
  {
   "cell_type": "code",
   "execution_count": 12,
   "metadata": {},
   "outputs": [
    {
     "name": "stderr",
     "output_type": "stream",
     "text": [
      "  0%|          | 4/2000 [00:00<00:55, 35.89it/s]"
     ]
    },
    {
     "name": "stdout",
     "output_type": "stream",
     "text": [
      "starting 10 Armed Bandits play\n",
      "running for eps :  0\n"
     ]
    },
    {
     "name": "stderr",
     "output_type": "stream",
     "text": [
      "100%|██████████| 2000/2000 [00:48<00:00, 41.50it/s]\n",
      "  0%|          | 4/2000 [00:00<00:52, 37.98it/s]"
     ]
    },
    {
     "name": "stdout",
     "output_type": "stream",
     "text": [
      "running for eps :  0.1\n"
     ]
    },
    {
     "name": "stderr",
     "output_type": "stream",
     "text": [
      "100%|██████████| 2000/2000 [00:48<00:00, 40.90it/s]\n"
     ]
    },
    {
     "data": {
      "image/png": "[encoded data removed]",
      "text/plain": [
       "<Figure size 432x288 with 1 Axes>"
      ]
     },
     "metadata": {},
     "output_type": "display_data"
    }
   ],
   "source": [
    "if __name__=='__main__':\n",
    "    print('starting 10 Armed Bandits play')\n",
    "    tasks = 2000#1#2000\n",
    "    num_time_steps = 3000#1000#3000#1000#3000#1000#3000#1000#3000#1000\n",
    "    epsilons = [0,0.1]\n",
    "    #playNArmedVBandit(epsilons,tasks, num_time_steps, step_size = 0.1, UCB_c = None, sample_avg_flag = True, \n",
    "    #                  init_estimates = 0.0, plot_avg_rew = False, plot_opt_cnt = True)\n",
    "    #stationary \n",
    "    #fig_2_3(epsilons,tasks, num_time_steps, step_szie = 0.1)\n",
    "    #non-stationary\n",
    "    fig_2_3(epsilons,tasks, num_time_steps, step_szie = 0.1,is_stationary = False)\n",
    "    \n",
    "    ####part 4 \n",
    "    bandit_types = ['UCB','Optimistic']\n",
    "    #stationary\n",
    "    #part4(bandit_types,tasks, num_time_steps, step_szie = 0.1, UCB_c = 2, sample_avg_flag = True)\n",
    "    #non-stationary\n",
    "    #part4(bandit_types,tasks, num_time_steps, step_szie = 0.1, UCB_c = 2, sample_avg_flag = False,is_stationary = False)\n",
    "    #part4(bandit_types,tasks, num_time_steps, step_szie = 0.1, UCB_c = 2, sample_avg_flag = False,is_stationary = False,nsteps = 1000)\n",
    "    \n",
    "    bandit_types = ['UCB','E-greedy']\n",
    "    #stationary\n",
    "    #part4(bandit_types,tasks, num_time_steps, step_szie = 0.1, UCB_c = 2, sample_avg_flag = True)\n",
    "    #non-stationary\n",
    "    #part4(bandit_types,tasks, num_time_steps, step_szie = 0.1, UCB_c = 2, sample_avg_flag = False,is_stationary = False)\n",
    "    #part4(bandit_types,tasks, num_time_steps, step_szie = 0.1, UCB_c = 2, sample_avg_flag = False,is_stationary = False,nsteps = 1000)\n",
    "    \n",
    "    bandit_types = ['UCB','Optimistic','E-greedy']\n",
    "    #stationary\n",
    "    #part4(bandit_types,tasks, num_time_steps, step_szie = 0.1, UCB_c = 2, sample_avg_flag = True)\n",
    "    #non-stationary\n",
    "    #part4(bandit_types,tasks, num_time_steps, step_szie = 0.1, UCB_c = 2, sample_avg_flag = False,is_stationary = False)\n",
    "    #part4(bandit_types,tasks, num_time_steps, step_szie = 0.1, UCB_c = 2, sample_avg_flag = False,is_stationary = False,nsteps = 1000)\n"
   ]
  }
 ],
 "metadata": {
  "kernelspec": {
   "display_name": "Python 3",
   "language": "python",
   "name": "python3"
  },
  "language_info": {
   "codemirror_mode": {
    "name": "ipython",
    "version": 3
   },
   "file_extension": ".py",
   "mimetype": "text/x-python",
   "name": "python",
   "nbconvert_exporter": "python",
   "pygments_lexer": "ipython3",
   "version": "3.6.3"
  }
 },
 "nbformat": 4,
 "nbformat_minor": 2
}
